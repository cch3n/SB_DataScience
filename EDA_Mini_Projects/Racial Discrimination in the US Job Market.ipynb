{
 "cells": [
  {
   "cell_type": "markdown",
   "metadata": {},
   "source": [
    "# Examining Racial Discrimination in the US Job Market\n",
    "\n",
    "### Background\n",
    "Racial discrimination continues to be pervasive in cultures throughout the world. Researchers examined the level of racial discrimination in the United States labor market by randomly assigning identical résumés to black-sounding or white-sounding names and observing the impact on requests for interviews from employers.\n",
    "\n",
    "### Data\n",
    "In the dataset provided, each row represents a resume. The 'race' column has two values, 'b' and 'w', indicating black-sounding and white-sounding. The column 'call' has two values, 1 and 0, indicating whether the resume received a call from employers or not.\n",
    "\n",
    "Note that the 'b' and 'w' values in race are assigned randomly to the resumes when presented to the employer."
   ]
  },
  {
   "cell_type": "markdown",
   "metadata": {},
   "source": [
    "### Exercises\n",
    "You will perform a statistical analysis to establish whether race has a significant impact on the rate of callbacks for resumes.\n",
    "\n",
    "Answer the following questions **in this notebook below and submit to your Github account**. \n",
    "\n",
    "   1. What test is appropriate for this problem? Does CLT apply?\n",
    "   2. What are the null and alternate hypotheses?\n",
    "   3. Compute margin of error, confidence interval, and p-value. Try using both the bootstrapping and the frequentist statistical approaches.\n",
    "   4. Write a story describing the statistical significance in the context or the original problem.\n",
    "   5. Does your analysis mean that race/name is the most important factor in callback success? Why or why not? If not, how would you amend your analysis?\n",
    "\n",
    "You can include written notes in notebook cells using Markdown: \n",
    "   - In the control panel at the top, choose Cell > Cell Type > Markdown\n",
    "   - Markdown syntax: http://nestacms.com/docs/creating-content/markdown-cheat-sheet\n",
    "\n",
    "#### Resources\n",
    "+ Experiment information and data source: http://www.povertyactionlab.org/evaluation/discrimination-job-market-united-states\n",
    "+ Scipy statistical methods: http://docs.scipy.org/doc/scipy/reference/stats.html \n",
    "+ Markdown syntax: http://nestacms.com/docs/creating-content/markdown-cheat-sheet\n",
    "+ Formulas for the Bernoulli distribution: https://en.wikipedia.org/wiki/Bernoulli_distribution"
   ]
  },
  {
   "cell_type": "code",
   "execution_count": 7,
   "metadata": {},
   "outputs": [],
   "source": [
    "import pandas as pd\n",
    "import numpy as np\n",
    "from scipy import stats"
   ]
  },
  {
   "cell_type": "code",
   "execution_count": 8,
   "metadata": {},
   "outputs": [],
   "source": [
    "data = pd.io.stata.read_stata('data/us_job_market_discrimination.dta')"
   ]
  },
  {
   "cell_type": "code",
   "execution_count": 9,
   "metadata": {
    "scrolled": true
   },
   "outputs": [
    {
     "data": {
      "text/html": [
       "<div>\n",
       "<style scoped>\n",
       "    .dataframe tbody tr th:only-of-type {\n",
       "        vertical-align: middle;\n",
       "    }\n",
       "\n",
       "    .dataframe tbody tr th {\n",
       "        vertical-align: top;\n",
       "    }\n",
       "\n",
       "    .dataframe thead th {\n",
       "        text-align: right;\n",
       "    }\n",
       "</style>\n",
       "<table border=\"1\" class=\"dataframe\">\n",
       "  <thead>\n",
       "    <tr style=\"text-align: right;\">\n",
       "      <th></th>\n",
       "      <th>Call</th>\n",
       "      <th>NoCall</th>\n",
       "      <th>Total</th>\n",
       "      <th>%Callback</th>\n",
       "    </tr>\n",
       "  </thead>\n",
       "  <tbody>\n",
       "    <tr>\n",
       "      <th>White</th>\n",
       "      <td>235</td>\n",
       "      <td>2200</td>\n",
       "      <td>2435</td>\n",
       "      <td>9.650924</td>\n",
       "    </tr>\n",
       "    <tr>\n",
       "      <th>black</th>\n",
       "      <td>157</td>\n",
       "      <td>2278</td>\n",
       "      <td>2435</td>\n",
       "      <td>6.447639</td>\n",
       "    </tr>\n",
       "    <tr>\n",
       "      <th>Total</th>\n",
       "      <td>392</td>\n",
       "      <td>4478</td>\n",
       "      <td>4870</td>\n",
       "      <td>8.049281</td>\n",
       "    </tr>\n",
       "  </tbody>\n",
       "</table>\n",
       "</div>"
      ],
      "text/plain": [
       "       Call  NoCall  Total  %Callback\n",
       "White   235    2200   2435   9.650924\n",
       "black   157    2278   2435   6.447639\n",
       "Total   392    4478   4870   8.049281"
      ]
     },
     "execution_count": 9,
     "metadata": {},
     "output_type": "execute_result"
    }
   ],
   "source": [
    "#Describe the data set\n",
    "\n",
    "w = data[data.race == 'w']\n",
    "b = data[data.race == 'b']\n",
    "\n",
    "#White name callbacks summary\n",
    "cb_w_tot = np.sum(w.call == 1)\n",
    "tot_w_count = len(w) \n",
    "no_cb_w = tot_w_count - cb_w_tot\n",
    "perc_cb_w = cb_w_tot / tot_w_count * 100\n",
    "\n",
    "#Black name callback summary\n",
    "cb_b_tot = np.sum(b.call == 1)\n",
    "tot_b_count = len(b) \n",
    "no_cb_b = tot_b_count - cb_b_tot\n",
    "perc_cb_b = cb_b_tot / tot_b_count * 100\n",
    "perc_cb_b\n",
    "\n",
    "data1 = {'Call': np.array([cb_w_tot, cb_b_tot, cb_w_tot + cb_b_tot]).astype(int),\n",
    "        'NoCall': np.array([no_cb_w, no_cb_b, no_cb_w + no_cb_b]).astype(int),\n",
    "        'Total': np.array([tot_w_count, tot_b_count, tot_w_count + tot_b_count]).astype(int),\n",
    "        '%Callback': np.array([perc_cb_w, perc_cb_b, \n",
    "                           (cb_w_tot + cb_b_tot)/(tot_w_count + tot_b_count)*100]).astype(float)}\n",
    "\n",
    "table = pd.DataFrame(data1, columns = ['Call', 'NoCall', 'Total', '%Callback'],\n",
    "                    index = ['White', 'black', 'Total'], )\n",
    "table"
   ]
  },
  {
   "cell_type": "markdown",
   "metadata": {
    "collapsed": true
   },
   "source": [
    "### Answer 1\n",
    "\n",
    "<p>The appropriate test for this problem is a Z score test as we are comparing the probability of call backs per race to the total probability of call backs. \n",
    "    \n",
    "   The central limit theorem applies because the sample size is reasonably large.  \n",
    "\n",
    "</p>\n",
    "</div>"
   ]
  },
  {
   "cell_type": "markdown",
   "metadata": {},
   "source": [
    "### Answer 2\n",
    "\n",
    "\n",
    "From the summary table above, we see that the percentage of calls for interview requests is approximately 8.05%. Taking the probability of call backs for white sounding names and black sounding names we would expect one of two possibilities. \n",
    "\n",
    "H<sub>0</sub>: There is no significant difference in receiving interview requests between individuals with a white sounding name or black sounding name.  \n",
    "- P<sub>tot</sub> 8.05% = P<sub>white</sub> 9.65% = P<sub>black</sub> 6.44%\n",
    "\n",
    "\n",
    "H<sub>A</sub>: There is a significant difference in receiving interview requests between individuals with a white sounding name or black sounding name.\n",
    "- P<sub>tot</sub> 8.05% != P<sub>white</sub> 9.65%  != P<sub>black</sub> 6.44%\n",
    "</p>\n",
    "</div>"
   ]
  },
  {
   "cell_type": "code",
   "execution_count": 11,
   "metadata": {},
   "outputs": [
    {
     "name": "stdout",
     "output_type": "stream",
     "text": [
      "0.032032855\n",
      "p =  0.0\n",
      "0.015255406348684322\n",
      "95% Confidence Interval = [-0.01519507  0.01519507]\n"
     ]
    }
   ],
   "source": [
    "#Bootstrap Method\n",
    "def bootstrap_replicate_1d(data, func):\n",
    "    return func(np.random.choice(data, size=len(data)))\n",
    "\n",
    "def draw_bs_reps(data, func, size=1):\n",
    "    \"\"\"Draw bootstrap replicates.\"\"\"\n",
    "\n",
    "    # Initialize array of replicates: bs_replicates\n",
    "    bs_replicates = np.empty(size)\n",
    "\n",
    "    # Generate replicates\n",
    "    for i in range(size):\n",
    "        bs_replicates[i] = bootstrap_replicate_1d(data, func)\n",
    "\n",
    "    return bs_replicates\n",
    "\n",
    "\n",
    "empirical_mean = np.mean(w.call) - np.mean(b.call)\n",
    "\n",
    "#Generate shifted arrays\n",
    "w_call_shifted = w.call - np.mean(w.call) + empirical_mean\n",
    "b_call_shifted = b.call - np.mean(b.call) + empirical_mean\n",
    "\n",
    "bs_replicates_w = draw_bs_reps(w_call_shifted, np.mean, 10000)\n",
    "bs_replicates_b = draw_bs_reps(b_call_shifted, np.mean, 10000)\n",
    "\n",
    "bs_replicates_calls = bs_replicates_w - bs_replicates_b\n",
    "p = np.sum(bs_replicates_calls >= empirical_mean) / len(bs_replicates_calls)\n",
    "\n",
    "#Confidence Intervals\n",
    "conf_int = np.percentile(bs_replicates_calls, [2.5, 97.5])\n",
    "\n",
    "#Margin of Error\n",
    "z_crit = 1.96\n",
    "var_w = np.mean(w.call)*(1-np.mean(w.call))/len(w)\n",
    "var_b = np.mean(b.call)*(1-np.mean(b.call))/len(b)\n",
    "sem = np.sqrt(var_w + var_b) * z_crit\n",
    "\n",
    "print('p = ', p)\n",
    "print(sem)\n",
    "print('95% Confidence Interval =', conf_int) \n"
   ]
  },
  {
   "cell_type": "code",
   "execution_count": 71,
   "metadata": {},
   "outputs": [
    {
     "name": "stdout",
     "output_type": "stream",
     "text": [
      "Margin of Error =  0.015255406348684322\n",
      "95% Confidence Interval: [ 0.016777448506376254 , 0.0472882612037449 ]\n",
      "z = 4.115550519002299\n"
     ]
    }
   ],
   "source": [
    "#Frequentist Approach\n",
    "p_w = np.mean(w.call)\n",
    "p_b = np.mean(b.call)\n",
    "\n",
    "diff_mean = p_w - p_b\n",
    "\n",
    "#Calculate the variance of Pw - Pb and std deviation\n",
    "w_var = p_w * (1 - p_w) / len(w)\n",
    "b_var = p_b * (1 - p_b) / len(b)\n",
    "tot_var = w_var + b_var\n",
    "tot_std = np.sqrt(tot_var)\n",
    "\n",
    "#Calculate margin of error with alpha = 0.05\n",
    "z_crit = 1.96 \n",
    "sem_tot = z_crit * tot_std\n",
    "max_int = diff_mean + sem_tot\n",
    "min_int = diff_mean - sem_tot\n",
    "\n",
    "print(\"Margin of Error = \", sem_tot)\n",
    "print('95% Confidence Interval:', '[', min_int,',', max_int, ']')\n",
    "\n",
    "#calculate z value\n",
    "z = (diff_mean - 0) / tot_std\n",
    "print('z =', z)"
   ]
  },
  {
   "cell_type": "markdown",
   "metadata": {
    "collapsed": true
   },
   "source": [
    "### Answer 3\n",
    "\n",
    "From the bootstrap approach, we reject the null hypothesis with a 0.0 p value. There is a significant difference between white sounding name call backs and black sounding names call backs. Our 95% confidence interval is between [-0.01519507, 0.01560575] showing a call back percentage difference within that interval is not abnormal or significant. A difference of 3.61 is well out of the range therefore showing the results are significantly abnormal. \n",
    "\n",
    "\n",
    "The results of the frequentist approach are similar to our bootstrap approach. At alpha = 0.05 we expect a z value of 1.96. Our results have a z value of 4.12, well beyond the critcal z value therefore we reject the null hypothesis. The results of our analysis show significant difference between the call backs of each race. From the frequentist approach we expect a 95% confidence interval between [0.017, 0.047], our difference of 3.61 is out of the range, and is therefore abnormal. \n"
   ]
  },
  {
   "cell_type": "markdown",
   "metadata": {},
   "source": [
    "### Answer 4\n",
    "\n",
    "<p> From the data obtained, there is a significant difference between call backs received by white sounding names and black sounding names. White sounding names have recieved about 59% of the interview requests. \n",
    "\n",
    "</p>\n",
    "</div>"
   ]
  },
  {
   "cell_type": "markdown",
   "metadata": {
    "collapsed": true
   },
   "source": [
    "### Answer 5\n",
    "\n",
    "From our analysis all we can say with 100% confidence is that there is a significant difference between interview requests for white sounding names and black sounding names. However, we cannot say with 100% certainty that race is the most important variable in interview decisions. There are other factors that need to be taken into consideration which could affect the results of the race variable.\n",
    "\n",
    "- When was the position posted and whether or not a candidate was already hired when applications were received. \n",
    "- What areas were the jobs located and what sort of racial diversity is in that location. \n",
    "- What sort of qualifications was each job looking for? Were the mock resumes over qualified or underqualified?\n",
    "\n",
    "A follow up research experiment would be to isolate the results to one company and one available position to see the number of interview requests for the same resumes with different names. Thus we would isolate the variable down to only one factor, race."
   ]
  }
 ],
 "metadata": {
  "kernelspec": {
   "display_name": "Python 3",
   "language": "python",
   "name": "python3"
  },
  "language_info": {
   "codemirror_mode": {
    "name": "ipython",
    "version": 3
   },
   "file_extension": ".py",
   "mimetype": "text/x-python",
   "name": "python",
   "nbconvert_exporter": "python",
   "pygments_lexer": "ipython3",
   "version": "3.7.0"
  }
 },
 "nbformat": 4,
 "nbformat_minor": 1
}
