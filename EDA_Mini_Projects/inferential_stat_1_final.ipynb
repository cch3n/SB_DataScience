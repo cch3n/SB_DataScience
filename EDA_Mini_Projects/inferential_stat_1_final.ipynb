{
 "cells": [
  {
   "cell_type": "markdown",
   "metadata": {},
   "source": [
    "# What is the True Normal Human Body Temperature? \n",
    "\n",
    "#### Background\n",
    "\n",
    "The mean normal body temperature was held to be 37$^{\\circ}$C or 98.6$^{\\circ}$F for more than 120 years since it was first conceptualized and reported by Carl Wunderlich in a famous 1868 book. But, is this value statistically correct?"
   ]
  },
  {
   "cell_type": "markdown",
   "metadata": {},
   "source": [
    "<h3>Exercises</h3>\n",
    "\n",
    "<p>In this exercise, you will analyze a dataset of human body temperatures and employ the concepts of hypothesis testing, confidence intervals, and statistical significance.</p>\n",
    "\n",
    "<p>Answer the following questions <b>in this notebook below and submit to your Github account</b>.</p> \n",
    "\n",
    "<ol>\n",
    "<li>  Is the distribution of body temperatures normal? \n",
    "    <ul>\n",
    "    <li> Although this is not a requirement for the Central Limit Theorem to hold (read the introduction on Wikipedia's page about the CLT carefully: https://en.wikipedia.org/wiki/Central_limit_theorem), it gives us some peace of mind that the population may also be normally distributed if we assume that this sample is representative of the population.\n",
    "    <li> Think about the way you're going to check for the normality of the distribution. Graphical methods are usually used first, but there are also other ways: https://en.wikipedia.org/wiki/Normality_test\n",
    "    </ul>\n",
    "<li>  Is the sample size large? Are the observations independent?\n",
    "    <ul>\n",
    "    <li> Remember that this is a condition for the Central Limit Theorem, and hence the statistical tests we are using, to apply.\n",
    "    </ul>\n",
    "<li>  Is the true population mean really 98.6 degrees F?\n",
    "    <ul>\n",
    "    <li> First, try a bootstrap hypothesis test.\n",
    "    <li> Now, let's try frequentist statistical testing. Would you use a one-sample or two-sample test? Why?\n",
    "    <li> In this situation, is it appropriate to use the $t$ or $z$ statistic? \n",
    "    <li> Now try using the other test. How is the result be different? Why?\n",
    "    </ul>\n",
    "<li>  Draw a small sample of size 10 from the data and repeat both frequentist tests. \n",
    "    <ul>\n",
    "    <li> Which one is the correct one to use? \n",
    "    <li> What do you notice? What does this tell you about the difference in application of the $t$ and $z$ statistic?\n",
    "    </ul>\n",
    "<li>  At what temperature should we consider someone's temperature to be \"abnormal\"?\n",
    "    <ul>\n",
    "    <li> As in the previous example, try calculating everything using the boostrap approach, as well as the frequentist approach.\n",
    "    <li> Start by computing the margin of error and confidence interval. When calculating the confidence interval, keep in mind that you should use the appropriate formula for one draw, and not N draws.\n",
    "    </ul>\n",
    "<li>  Is there a significant difference between males and females in normal temperature?\n",
    "    <ul>\n",
    "    <li> What testing approach did you use and why?\n",
    "    <li> Write a story with your conclusion in the context of the original problem.\n",
    "    </ul>\n",
    "</ol>\n",
    "\n",
    "You can include written notes in notebook cells using Markdown: \n",
    "   - In the control panel at the top, choose Cell > Cell Type > Markdown\n",
    "   - Markdown syntax: http://nestacms.com/docs/creating-content/markdown-cheat-sheet\n",
    "\n",
    "#### Resources\n",
    "\n",
    "+ Information and data sources: http://www.amstat.org/publications/jse/datasets/normtemp.txt, http://www.amstat.org/publications/jse/jse_data_archive.htm\n",
    "+ Markdown syntax: http://nestacms.com/docs/creating-content/markdown-cheat-sheet\n",
    "\n",
    "****"
   ]
  },
  {
   "cell_type": "code",
   "execution_count": 38,
   "metadata": {},
   "outputs": [],
   "source": [
    "import pandas as pd\n",
    "import numpy as np\n",
    "import matplotlib.pyplot as plt\n",
    "import seaborn as sns\n",
    "\n",
    "df = pd.read_csv('data/human_body_temperature.csv')"
   ]
  },
  {
   "cell_type": "code",
   "execution_count": 39,
   "metadata": {},
   "outputs": [
    {
     "data": {
      "text/html": [
       "<div>\n",
       "<style scoped>\n",
       "    .dataframe tbody tr th:only-of-type {\n",
       "        vertical-align: middle;\n",
       "    }\n",
       "\n",
       "    .dataframe tbody tr th {\n",
       "        vertical-align: top;\n",
       "    }\n",
       "\n",
       "    .dataframe thead th {\n",
       "        text-align: right;\n",
       "    }\n",
       "</style>\n",
       "<table border=\"1\" class=\"dataframe\">\n",
       "  <thead>\n",
       "    <tr style=\"text-align: right;\">\n",
       "      <th></th>\n",
       "      <th>temperature</th>\n",
       "      <th>heart_rate</th>\n",
       "    </tr>\n",
       "  </thead>\n",
       "  <tbody>\n",
       "    <tr>\n",
       "      <th>count</th>\n",
       "      <td>130.000000</td>\n",
       "      <td>130.000000</td>\n",
       "    </tr>\n",
       "    <tr>\n",
       "      <th>mean</th>\n",
       "      <td>98.249231</td>\n",
       "      <td>73.761538</td>\n",
       "    </tr>\n",
       "    <tr>\n",
       "      <th>std</th>\n",
       "      <td>0.733183</td>\n",
       "      <td>7.062077</td>\n",
       "    </tr>\n",
       "    <tr>\n",
       "      <th>min</th>\n",
       "      <td>96.300000</td>\n",
       "      <td>57.000000</td>\n",
       "    </tr>\n",
       "    <tr>\n",
       "      <th>25%</th>\n",
       "      <td>97.800000</td>\n",
       "      <td>69.000000</td>\n",
       "    </tr>\n",
       "    <tr>\n",
       "      <th>50%</th>\n",
       "      <td>98.300000</td>\n",
       "      <td>74.000000</td>\n",
       "    </tr>\n",
       "    <tr>\n",
       "      <th>75%</th>\n",
       "      <td>98.700000</td>\n",
       "      <td>79.000000</td>\n",
       "    </tr>\n",
       "    <tr>\n",
       "      <th>max</th>\n",
       "      <td>100.800000</td>\n",
       "      <td>89.000000</td>\n",
       "    </tr>\n",
       "  </tbody>\n",
       "</table>\n",
       "</div>"
      ],
      "text/plain": [
       "       temperature  heart_rate\n",
       "count   130.000000  130.000000\n",
       "mean     98.249231   73.761538\n",
       "std       0.733183    7.062077\n",
       "min      96.300000   57.000000\n",
       "25%      97.800000   69.000000\n",
       "50%      98.300000   74.000000\n",
       "75%      98.700000   79.000000\n",
       "max     100.800000   89.000000"
      ]
     },
     "execution_count": 39,
     "metadata": {},
     "output_type": "execute_result"
    }
   ],
   "source": [
    "df.describe()"
   ]
  },
  {
   "cell_type": "code",
   "execution_count": 40,
   "metadata": {},
   "outputs": [],
   "source": [
    "df_mean = np.mean(df.temperature)\n",
    "df_std = np.std(df.temperature)\n",
    "temperature = df.temperature"
   ]
  },
  {
   "cell_type": "markdown",
   "metadata": {},
   "source": [
    "### 1.) Is the distribution of body temperatures normal?"
   ]
  },
  {
   "cell_type": "code",
   "execution_count": 41,
   "metadata": {},
   "outputs": [],
   "source": [
    "def ecdf(data):\n",
    "    \"\"\"Compute ECDF for a one-dimensional array of measurements.\"\"\"\n",
    "    # Number of data points: n\n",
    "    n = len(data)\n",
    "\n",
    "    # x-data for the ECDF: x\n",
    "    x = np.sort(data)\n",
    "\n",
    "    # y-data for the ECDF: y\n",
    "    y = np.arange(1, n+1) / n\n",
    "\n",
    "    return x, y"
   ]
  },
  {
   "cell_type": "code",
   "execution_count": 112,
   "metadata": {
    "scrolled": false
   },
   "outputs": [
    {
     "data": {
      "image/png": "[encoded data removed]",
      "text/plain": [
       "<Figure size 432x288 with 1 Axes>"
      ]
     },
     "metadata": {},
     "output_type": "display_data"
    },
    {
     "data": {
      "image/png": "[encoded data removed]",
      "text/plain": [
       "<Figure size 432x288 with 1 Axes>"
      ]
     },
     "metadata": {},
     "output_type": "display_data"
    },
    {
     "name": "stdout",
     "output_type": "stream",
     "text": [
      "the total number of people with a temperature of 98.6 is 10 , all other temperatures 120 .\n"
     ]
    }
   ],
   "source": [
    "success_total = np.sum(temperature == 98.6)\n",
    "\n",
    "sns.set()\n",
    "x_temp, y_temp = ecdf(temperature)\n",
    "norm_dist = np.random.normal(df_mean, df_std, 10000)\n",
    "norm_x, norm_y = ecdf(norm_dist)\n",
    "\n",
    "_ = plt.hist(df.temperature, bins = 11, density = True)\n",
    "\n",
    "_ = plt.xlabel('Body Temperature (F)')\n",
    "_ = plt.ylabel('Frequency')\n",
    "_ = plt.title('Frequencies of Body Temperatures')\n",
    "_ = plt.ylim((0,1))\n",
    "\n",
    "plt.show()\n",
    "\n",
    "percentile = np.array([25,50,75])\n",
    "_ = plt.plot(x_temp, y_temp, marker = '.', linestyle = 'none', color = 'blue', label = 'Data CDF')\n",
    "_ = plt.margins(0.03)\n",
    "\n",
    "ptiles_temp = np.percentile(temperature, percentile)\n",
    "_ = plt.plot(ptiles_temp, percentile/100, marker = 'D', color = 'orange', linestyle = 'none', \n",
    "           label = 'Quarter Percentiles')\n",
    "_ = plt.plot(norm_x, norm_y, color = 'red', label = 'Normal CDF')\n",
    "_ = plt.xlabel('Body Temperature (F)')\n",
    "_ = plt.ylabel('CDF')\n",
    "_ = plt.title('CDF of Body Temperatures')\n",
    "_ = plt.legend(loc = 'lower right')\n",
    "\n",
    "plt.show()\n",
    "\n",
    "print('the total number of people with a temperature of 98.6 is', success_total, ', all other temperatures', \n",
    "      130 - success_total, '.')"
   ]
  },
  {
   "cell_type": "markdown",
   "metadata": {},
   "source": [
    "#### Answer 1:\n",
    "From the historgram the data appears to fit the normal distribution histogram. The number of successes and failures are each >= 10, which fit requirements of a normal distribution and central limit theorem. \n",
    "\n",
    "Using a normal CDF curve with the same mean and standard deviation we can see that the distributions seem to fit one another. Therefore the temperature distribution is normal according to the second graph. "
   ]
  },
  {
   "cell_type": "markdown",
   "metadata": {},
   "source": [
    "### 2.) Is the sample size large? Are the observations independent?"
   ]
  },
  {
   "cell_type": "markdown",
   "metadata": {},
   "source": [
    "#### Answer 2:\n",
    "Assuming each observation is taken from a different individual per entry, then the observations are independent. \n",
    "\n",
    "The sample size of 130 is less than 10% of the parent population therefore we can assume independence. \n",
    "\n",
    "The sample size of 130 > 30, which is reasonably large to satisfy the centeral limit theorem. "
   ]
  },
  {
   "cell_type": "markdown",
   "metadata": {},
   "source": [
    "### 3.) Is the true population mean really 98.6F?"
   ]
  },
  {
   "cell_type": "code",
   "execution_count": 43,
   "metadata": {},
   "outputs": [],
   "source": [
    "def bootstrap_replicate_1d(data, func):\n",
    "    return func(np.random.choice(data, size=len(data)))\n",
    "\n",
    "def draw_bs_reps(data, func, size=1):\n",
    "    \"\"\"Draw bootstrap replicates.\"\"\"\n",
    "\n",
    "    # Initialize array of replicates: bs_replicates\n",
    "    bs_replicates = np.empty(size)\n",
    "\n",
    "    # Generate replicates\n",
    "    for i in range(size):\n",
    "        bs_replicates[i] = bootstrap_replicate_1d(data, func)\n",
    "\n",
    "    return bs_replicates"
   ]
  },
  {
   "cell_type": "code",
   "execution_count": 121,
   "metadata": {},
   "outputs": [
    {
     "name": "stdout",
     "output_type": "stream",
     "text": [
      "p = 0.0\n"
     ]
    }
   ],
   "source": [
    "#Shift temperature data to have a mean of 98.6 for hypothesis testing. \n",
    "\n",
    "shifted_temps = df.temperature - np.mean(temperature) + 98.6\n",
    "bs_reps_temp = draw_bs_reps(shifted_temps, np.mean, size = 10000)\n",
    "p = np.sum(bs_reps_temp <= true_mean_temperature) / len(bs_reps_temp)\n",
    "print('p =', p)\n"
   ]
  },
  {
   "cell_type": "code",
   "execution_count": 94,
   "metadata": {},
   "outputs": [
    {
     "name": "stdout",
     "output_type": "stream",
     "text": [
      "t = -5.4759252020785585\n",
      "z = -5.4759252020785585\n"
     ]
    }
   ],
   "source": [
    "#Frequentist t-stat \n",
    "t_stat = (np.mean(temperature) - 98.6) / (np.std(temperature)/np.sqrt(130))\n",
    "print('t =', t_stat)\n",
    "\n",
    "#Frequentist approach z score\n",
    "true_mean_temperature = np.mean(temperature)\n",
    "z_score = (true_mean_temperature - 98.6) / (np.std(temperature) / np.sqrt(130))\n",
    "print('z =', z_score)\n"
   ]
  },
  {
   "cell_type": "markdown",
   "metadata": {},
   "source": [
    "#### Answer 3:\n",
    "- H<sub>0</sub>: There is no significance difference between the sample mean 98.249 F and the population mean of 98.6 F. \n",
    "- H<sub>A</sub>: There is a significance difference between the sample mean 98.249 F and the population mean of 98.6 F.\n",
    "\n",
    "After creating a bootstrap replicate of 10,000 trials, the probability achieving a sample mean of 98.6F is p = 0.0. Therefore, we reject the null hypothesis and find that there is a significance difference between the our sample mean and the proposed population mean of 98.6F. "
   ]
  },
  {
   "cell_type": "markdown",
   "metadata": {},
   "source": [
    "For our data you would want a one sample test since we are comparing our sample group to the population mean of 98.6 F. It would be appropriate to use the t test because the population standard deviation is unknown. Using the frequentist approach, both our t-test and z-score is -5.48 with a probability < 0.05. Therefore, using frequentist stats we would reject the null hypothesis. "
   ]
  },
  {
   "cell_type": "markdown",
   "metadata": {},
   "source": [
    "Both the t-test and z-test yielded the same results of rejecting the null hypothesis. The two stats are equal because the population standard deviation was unknown for the z test, and the sample mean was used as an estimate for standard deviation. Using a sample mean to calculate the z test is the formula for the t test, therefore yielding the same results. \n"
   ]
  },
  {
   "cell_type": "markdown",
   "metadata": {},
   "source": [
    "### 4.) Draw a small sample size of 10 from the data and rerun "
   ]
  },
  {
   "cell_type": "code",
   "execution_count": 124,
   "metadata": {},
   "outputs": [
    {
     "name": "stdout",
     "output_type": "stream",
     "text": [
      "p = 0.0233\n",
      "t = -1.9231822942680925\n",
      "z = -1.9231822942680925\n"
     ]
    }
   ],
   "source": [
    "#Grab random 10 samples from data\n",
    "np.random.seed(100)\n",
    "sample_10 = np.random.choice(df.temperature, size=10)\n",
    "\n",
    "#Bootstrap: alpha = 0.05\n",
    "sample_10_shifted = sample_10 - np.mean(sample_10) + 98.6\n",
    "bootstrap_10 = draw_bs_reps(sample_10_shifted, np.mean, size = 10000)\n",
    "p = np.sum(bootstrap_10 <= np.mean(sample_10)) / len(bootstrap_10)\n",
    "print('p =', p)\n",
    "\n",
    "#Frequentist: Calculate t-stat df = 9, alpha = 0.05\n",
    "std_sample_10 = np.std(sample_10)\n",
    "t_stat_10 = (mean_sample_10 - 98.6) / (std_sample_10/np.sqrt(10))\n",
    "print('t =', t_stat_10)\n",
    "\n",
    "#Frequentist: Calculate z-stat test\n",
    "pop_std_10 = (mean_sample_10 - 98.6) / (std_sample_10 / np.sqrt(10))\n",
    "print('z =', pop_std_10)\n"
   ]
  },
  {
   "cell_type": "markdown",
   "metadata": {},
   "source": [
    "#### Answer 4:\n",
    "Using a smaller sample size results in a t-stat = -1.92 and p = 0.044, z-score = -1.92 and p = 0.0274. Using all three methods we would reject the null hypothesis if alpha = 0.05. \n",
    "\n",
    "Each of the tests have a different p value, and the proper test to use for a small sample size is the t-test. The t test provides more accurate results instead of using the sample standard deviation to estimate a z statistic. "
   ]
  },
  {
   "cell_type": "markdown",
   "metadata": {},
   "source": [
    "### 5.) At what temperature should we consider someone's temperature to be \"abnormal\"?"
   ]
  },
  {
   "cell_type": "code",
   "execution_count": 125,
   "metadata": {},
   "outputs": [
    {
     "name": "stdout",
     "output_type": "stream",
     "text": [
      "Bootstrap Approach = [98.12538462 98.37769231]\n",
      "Frequentist approach = [ 98.12367980442816 98.37478173403333 ]\n"
     ]
    }
   ],
   "source": [
    "# 5.) At what temperature should we consider someone's temperature to be \"abnormal\"?\n",
    "#Bootstrap appraoch\n",
    "bs_reps_temp = draw_bs_reps(temperature, np.mean, size = 10000)\n",
    "conf_int = np.percentile(bs_reps_temp, [2.5,97.5])\n",
    "print('Bootstrap Approach =', conf_int)\n",
    "\n",
    "#Frequentist Approach \n",
    "z_crit = 1.96\n",
    "std_dev = np.std(temperature)/np.sqrt(130)\n",
    "max_conf = true_mean_temperature + z_crit*std_dev\n",
    "min_conf = true_mean_temperature - z_crit*std_dev\n",
    "print('Frequentist approach =', '[', min_conf, max_conf, ']')\n"
   ]
  },
  {
   "cell_type": "markdown",
   "metadata": {},
   "source": [
    "#### Answer 5: \n",
    "An individual's temperature is considered abnormal if it falls outside of the confidence interval of (98.12, 98.37) calculated using sample standard deviation and an alpha value of 0.05. "
   ]
  },
  {
   "cell_type": "markdown",
   "metadata": {},
   "source": [
    "### 6.) Is there a significant difference between males and females in normal temperature?"
   ]
  },
  {
   "cell_type": "code",
   "execution_count": 49,
   "metadata": {},
   "outputs": [
    {
     "data": {
      "image/png": "[encoded data removed]",
      "text/plain": [
       "<Figure size 432x288 with 1 Axes>"
      ]
     },
     "metadata": {},
     "output_type": "display_data"
    }
   ],
   "source": [
    "sns.set()\n",
    "_ = sns.swarmplot(x = 'gender', y = temperature, data = df)\n",
    "_ = plt.title('Temperature vs. Gender')\n",
    "plt.show()"
   ]
  },
  {
   "cell_type": "code",
   "execution_count": 50,
   "metadata": {},
   "outputs": [
    {
     "data": {
      "image/png": "[encoded data removed]",
      "text/plain": [
       "<Figure size 432x288 with 1 Axes>"
      ]
     },
     "metadata": {},
     "output_type": "display_data"
    }
   ],
   "source": [
    "true_mean = np.mean(temperature)\n",
    "female_df = df[df.gender == 'F'].temperature\n",
    "male_df = df[df.gender == 'M'].temperature \n",
    "\n",
    "female_x, female_y = ecdf(female_df)\n",
    "male_x, male_y = ecdf(male_df)\n",
    "plt.plot(female_x, female_y, marker = '.', linestyle = 'none', label = 'female',\n",
    "        color = 'r')\n",
    "plt.plot(male_x, male_y, marker = '.', linestyle = 'none', label = 'male',\n",
    "        color = 'b')\n",
    "plt.margins(0.03)\n",
    "plt.legend(loc = 'center right')\n",
    "plt.title('CDF of Male v Female')\n",
    "plt.show()"
   ]
  },
  {
   "cell_type": "code",
   "execution_count": 51,
   "metadata": {},
   "outputs": [
    {
     "name": "stdout",
     "output_type": "stream",
     "text": [
      "0.2892307692307696\n",
      "0.12557668521231213\n",
      "-0.24613030301613179 0.24613030301613179\n"
     ]
    },
    {
     "data": {
      "text/plain": [
       "0.24613030301613179"
      ]
     },
     "execution_count": 51,
     "metadata": {},
     "output_type": "execute_result"
    }
   ],
   "source": [
    "female_mean = np.mean(female_df)\n",
    "male_mean = np.mean(male_df)\n",
    "\n",
    "diff_means = female_mean - male_mean\n",
    "print(diff_means)\n",
    "\n",
    "diff_std_dev = np.sqrt((np.std(female_df)**2)/65 + (np.std(male_df)**2)/65)\n",
    "print(diff_std_dev)\n",
    "\n",
    "std_err = diff_std_dev * 1.96\n",
    "min_diff, max_diff = (0 - std_err, 0 + std_err)\n",
    "print(min_diff, max_diff)\n",
    "std_err\n"
   ]
  },
  {
   "cell_type": "code",
   "execution_count": 120,
   "metadata": {},
   "outputs": [
    {
     "name": "stdout",
     "output_type": "stream",
     "text": [
      "p = 0.0141\n"
     ]
    }
   ],
   "source": [
    "def diff_of_means(data_1, data_2):\n",
    "    diff = np.mean(data_1) - np.mean(data_2)\n",
    "    return diff\n",
    "\n",
    "def permutation_sample(data1, data2):\n",
    "    data = np.concatenate((data1, data2))\n",
    "    permuted_data = np.random.permutation(data)\n",
    "    perm_sample1 = permuted_data[:len(data1)]\n",
    "    perm_sample2 = permuted_data[len(data1):]\n",
    "    return perm_sample1, perm_sample2\n",
    "   \n",
    "def draw_perm_reps(data_1, data_2, func, size = 1):\n",
    "    perm_replicates = np.empty(size)\n",
    "    for i in range(size):\n",
    "        perm_sample_1, perm_sample_2 = permutation_sample(data_1, data_2)\n",
    "        perm_replicates[i] = func(perm_sample_1, perm_sample_2)\n",
    "    return perm_replicates\n",
    "\n",
    "np.random.seed(100)\n",
    "empirical_diff = diff_of_means(female_df, male_df)\n",
    "perm_reps = draw_perm_reps(female_df, male_df, diff_of_means, size = 10000)\n",
    "\n",
    "p = np.sum(perm_reps >= empirical_diff)/len(perm_reps)\n",
    "print('p =', p)\n"
   ]
  },
  {
   "cell_type": "markdown",
   "metadata": {},
   "source": [
    "#### Answer 6\n",
    "- H<sub>0</sub>: There is no significant difference between males and females, their means are equal. \n",
    "- H<sub>A</sub>: There is significant difference between males and females, their means are not equal. \n",
    "\n",
    "After 10,000 permutations, we reject the null hypothesis. There is a significant difference between the male and female temperatures.\n",
    "\n",
    "Our null hypothesis states that there is no significant difference between female and male temperatures, therefore if we randomize our data while disregarding the gender variable, then compare the difference of means between the randomized samples to the difference of means between male and females we would expect a high probability of matches. But if we have a p value below alpha 0.05, we reject the null hypothesis, suggesting that the resulting difference of the means between females and males has a low probability of occuring and as a result is significant. \n",
    "\n",
    "The results show that it is not accurate claim with 100% certainty that the normal body temperature of the whole population is 98.6 F. From multiple hypothesis testing methods, is seems that with 95% confidence the average body temperature falls below the proposed normal temperature. \n",
    "\n",
    "We also have to take into consideration other variables which can contribute to the variation of temperatures. From our permutation testing, we found that there is a significant difference between the temperatures of males and females. \n",
    "\n",
    "Lastly, we have to question the gathering of the data points. A way to improve the test would be to place a control group to ensure no extraneaous variables could affect the results.\n",
    "- Were all individuals healthy when gathering temperatures? \n",
    "- Items of clothing worn by each individual?\n",
    "- Temperature of testing room? Or time of day? \n",
    "\n",
    "A way to avoid these extraneous factors would be to increase the sample size of individuals spread globally to our data so that our averages reach closer to the central limit theorem. "
   ]
  }
 ],
 "metadata": {
  "kernelspec": {
   "display_name": "Python 3",
   "language": "python",
   "name": "python3"
  },
  "language_info": {
   "codemirror_mode": {
    "name": "ipython",
    "version": 3
   },
   "file_extension": ".py",
   "mimetype": "text/x-python",
   "name": "python",
   "nbconvert_exporter": "python",
   "pygments_lexer": "ipython3",
   "version": "3.7.0"
  }
 },
 "nbformat": 4,
 "nbformat_minor": 1
}
